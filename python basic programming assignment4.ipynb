{
 "cells": [
  {
   "cell_type": "code",
   "execution_count": null,
   "id": "67a6a772",
   "metadata": {},
   "outputs": [],
   "source": [
    "1. Write a Python Program to Find the Factorial of a Number?\n",
    "2. Write a Python Program to Display the multiplication Table?\n",
    "3. Write a Python Program to Print the Fibonacci sequence?\n",
    "4. Write a Python Program to Check Armstrong Number?\n",
    "5. Write a Python Program to Find Armstrong Number in an Interval?\n",
    "6. Write a Python Program to Find the Sum of Natural Numbers?"
   ]
  },
  {
   "cell_type": "code",
   "execution_count": 1,
   "id": "c0861d15",
   "metadata": {},
   "outputs": [
    {
     "name": "stdout",
     "output_type": "stream",
     "text": [
      "Enter the number:5\n",
      "THE FACTORIAL OF 5 is 120\n"
     ]
    }
   ],
   "source": [
    "# 1. Write a Python Program to Find the Factorial of a Number?\n",
    "\n",
    "number=int(input(\"Enter the number:\"))\n",
    "\n",
    "factorial=1\n",
    "\n",
    "if number < 0 :\n",
    "    print(\"NEGATIVE NUMBERS DOES NOT HAVE FACTORIALS\")\n",
    "elif number == 0 :\n",
    "    print(\"THE FACTORIAL OF 0 IS 1\")\n",
    "else:\n",
    "    for i in range(1,number+1):\n",
    "        factorial=factorial*i\n",
    "    print(\"THE FACTORIAL OF\", number, \"is\", factorial)\n",
    "    "
   ]
  },
  {
   "cell_type": "code",
   "execution_count": 3,
   "id": "cc3d7d10",
   "metadata": {},
   "outputs": [
    {
     "name": "stdout",
     "output_type": "stream",
     "text": [
      "WHAT TABLE DO YOU WANT:10\n",
      "10 x 1 = 10\n",
      "10 x 2 = 20\n",
      "10 x 3 = 30\n",
      "10 x 4 = 40\n",
      "10 x 5 = 50\n",
      "10 x 6 = 60\n",
      "10 x 7 = 70\n",
      "10 x 8 = 80\n",
      "10 x 9 = 90\n",
      "10 x 10 = 100\n"
     ]
    }
   ],
   "source": [
    "#  Write a Python Program to Display the multiplication Table?\n",
    "\n",
    "tablenum=int(input(\"WHAT TABLE DO YOU WANT:\"))\n",
    "\n",
    "for i in range(1,11):\n",
    "    print(tablenum,\"x\",i,\"=\",tablenum*i)"
   ]
  },
  {
   "cell_type": "code",
   "execution_count": 4,
   "id": "b91082c6",
   "metadata": {},
   "outputs": [
    {
     "name": "stdout",
     "output_type": "stream",
     "text": [
      "HOW MANY TERMS:6\n",
      "Fibonacci sequence:\n",
      "0\n",
      "1\n",
      "1\n",
      "2\n",
      "3\n",
      "5\n"
     ]
    }
   ],
   "source": [
    "# 3. Write a Python Program to Print the Fibonacci sequence?\n",
    "\n",
    "nterms=int(input(\"HOW MANY TERMS:\"))\n",
    "\n",
    "n1,n2 = 0,1\n",
    "count = 0\n",
    "\n",
    "if nterms <= 0 :\n",
    "    print(\"Please enter a positive integer\")\n",
    "elif nterms == 1 :\n",
    "    print(\"Fibonacci sequence upto\", nterms, \":\")\n",
    "    print(n1)\n",
    "else:\n",
    "    print(\"Fibonacci sequence:\")\n",
    "    while count < nterms:\n",
    "        print(n1)\n",
    "        nth=n1+n2\n",
    "        n1=n2\n",
    "        n2=nth\n",
    "        count+=1"
   ]
  },
  {
   "cell_type": "code",
   "execution_count": 5,
   "id": "2a2b896d",
   "metadata": {},
   "outputs": [
    {
     "name": "stdout",
     "output_type": "stream",
     "text": [
      "Enter a number:5\n",
      "5 is NOT AN ARMSTRONG number\n"
     ]
    }
   ],
   "source": [
    "# 4. Write a Python Program to Check Armstrong Number?\n",
    "\n",
    "num=int(input(\"Enter a number:\"))\n",
    "\n",
    "sum = 0\n",
    "\n",
    "temp=num\n",
    "\n",
    "while temp > 0 :\n",
    "    digit=temp%10\n",
    "    sum+=digit**3\n",
    "    temp//=10\n",
    "    \n",
    "if num == sum:\n",
    "    print(num,\"is an ARMSTRONG number\")\n",
    "else:\n",
    "    print(num, \"is NOT AN ARMSTRONG number\")"
   ]
  },
  {
   "cell_type": "code",
   "execution_count": 7,
   "id": "6c745d02",
   "metadata": {},
   "outputs": [
    {
     "name": "stdout",
     "output_type": "stream",
     "text": [
      "Enter a number:371\n",
      "371 is an ARMSTRONG number\n"
     ]
    }
   ],
   "source": [
    "num=int(input(\"Enter a number:\"))\n",
    "\n",
    "sum = 0\n",
    "\n",
    "temp=num\n",
    "\n",
    "while temp > 0 :\n",
    "    digit=temp%10\n",
    "    sum+=digit**3\n",
    "    temp//=10\n",
    "    \n",
    "if num == sum:\n",
    "    print(num,\"is an ARMSTRONG number\")\n",
    "else:\n",
    "    print(num, \"is NOT AN ARMSTRONG number\")"
   ]
  },
  {
   "cell_type": "code",
   "execution_count": 8,
   "id": "e4643c64",
   "metadata": {},
   "outputs": [
    {
     "name": "stdout",
     "output_type": "stream",
     "text": [
      "Enter a number:153\n",
      "153 is an ARMSTRONG number\n"
     ]
    }
   ],
   "source": [
    "num=int(input(\"Enter a number:\"))\n",
    "\n",
    "sum = 0\n",
    "\n",
    "temp=num\n",
    "\n",
    "while temp > 0 :\n",
    "    digit=temp%10\n",
    "    sum+=digit**3\n",
    "    temp//=10\n",
    "    \n",
    "if num == sum:\n",
    "    print(num,\"is an ARMSTRONG number\")\n",
    "else:\n",
    "    print(num, \"is NOT AN ARMSTRONG number\")"
   ]
  },
  {
   "cell_type": "code",
   "execution_count": 13,
   "id": "7d18c621",
   "metadata": {},
   "outputs": [
    {
     "name": "stdout",
     "output_type": "stream",
     "text": [
      "153\n",
      "370\n",
      "371\n",
      "407\n",
      "1634\n"
     ]
    }
   ],
   "source": [
    "# 5.Write a Python Program to Find Armstrong Number in an Interval?\n",
    "\n",
    "lower=100\n",
    "upper=2000\n",
    "\n",
    "for num in range(lower,upper+1):\n",
    "    order=len(str(num))\n",
    "\n",
    "    sum = 0\n",
    "\n",
    "    temp = num\n",
    "    while temp > 0:\n",
    "        digit = temp % 10\n",
    "        sum += digit ** order\n",
    "        temp //=10\n",
    "    if num==sum:\n",
    "        print(num)"
   ]
  },
  {
   "cell_type": "code",
   "execution_count": 14,
   "id": "6acf1fce",
   "metadata": {},
   "outputs": [
    {
     "name": "stdout",
     "output_type": "stream",
     "text": [
      "enter a number:5\n",
      "the sum is: 15\n"
     ]
    }
   ],
   "source": [
    "# 6.  Write a Python Program to Find the Sum of Natural Numbers?\n",
    "\n",
    "number=int(input(\"enter a number:\"))\n",
    "\n",
    "if number < 0:\n",
    "    print(\"enter a positive number\")\n",
    "else:\n",
    "    sum=0\n",
    "    while(number>0):\n",
    "        sum+=number\n",
    "        number-=1\n",
    "    print(\"the sum is:\", sum)\n",
    "      \n",
    "\n",
    "      "
   ]
  },
  {
   "cell_type": "code",
   "execution_count": 15,
   "id": "e2fe9943",
   "metadata": {},
   "outputs": [
    {
     "name": "stdout",
     "output_type": "stream",
     "text": [
      "enter a number:10\n",
      "the sum is: 55\n"
     ]
    }
   ],
   "source": [
    "number=int(input(\"enter a number:\"))\n",
    "\n",
    "if number < 0:\n",
    "    print(\"enter a positive number\")\n",
    "else:\n",
    "    sum=0\n",
    "    while(number>0):\n",
    "        sum+=number\n",
    "        number-=1\n",
    "    print(\"the sum is:\", sum)\n",
    "      \n",
    "\n",
    "      "
   ]
  },
  {
   "cell_type": "code",
   "execution_count": null,
   "id": "158d6e79",
   "metadata": {},
   "outputs": [],
   "source": []
  }
 ],
 "metadata": {
  "kernelspec": {
   "display_name": "Python 3 (ipykernel)",
   "language": "python",
   "name": "python3"
  },
  "language_info": {
   "codemirror_mode": {
    "name": "ipython",
    "version": 3
   },
   "file_extension": ".py",
   "mimetype": "text/x-python",
   "name": "python",
   "nbconvert_exporter": "python",
   "pygments_lexer": "ipython3",
   "version": "3.9.7"
  }
 },
 "nbformat": 4,
 "nbformat_minor": 5
}
